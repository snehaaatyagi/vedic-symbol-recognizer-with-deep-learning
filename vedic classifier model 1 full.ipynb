{
 "cells": [
  {
   "cell_type": "code",
   "execution_count": 1,
   "metadata": {},
   "outputs": [],
   "source": [
    "import cv2,os\n",
    "\n",
    "data_path='Vedic dataset'"
   ]
  },
  {
   "cell_type": "code",
   "execution_count": 2,
   "metadata": {},
   "outputs": [],
   "source": [
    "categories=os.listdir(data_path)"
   ]
  },
  {
   "cell_type": "code",
   "execution_count": 3,
   "metadata": {},
   "outputs": [
    {
     "name": "stdout",
     "output_type": "stream",
     "text": [
      "{'Vedic symbols': 0, 'Vedic worshipping  device': 1}\n",
      "['Vedic symbols', 'Vedic worshipping  device']\n",
      "[0, 1]\n"
     ]
    }
   ],
   "source": [
    "labels=[i for i in range(len(categories))]\n",
    "\n",
    "label_dict=dict(zip(categories,labels)) \n",
    "\n",
    "print(label_dict)\n",
    "print(categories)\n",
    "print(labels)"
   ]
  },
  {
   "cell_type": "code",
   "execution_count": 4,
   "metadata": {},
   "outputs": [],
   "source": [
    "img_size=100\n",
    "data=[]\n",
    "target=[]\n",
    "\n",
    "\n",
    "for category in categories:\n",
    "    folder_path=os.path.join(data_path,category)\n",
    "    img_names=os.listdir(folder_path)\n",
    "        \n",
    "    for img_name in img_names:\n",
    "        img_path=os.path.join(folder_path,img_name)\n",
    "        img=cv2.imread(img_path)\n",
    "\n",
    "        try:\n",
    "            gray=cv2.cvtColor(img,cv2.COLOR_BGR2GRAY)           \n",
    "           \n",
    "            resized=cv2.resize(gray,(img_size,img_size))\n",
    "          \n",
    "            data.append(resized)\n",
    "            target.append(label_dict[category])\n",
    "           \n",
    "        except Exception as e:\n",
    "            print('Exception:',e)\n"
   ]
  },
  {
   "cell_type": "code",
   "execution_count": 5,
   "metadata": {},
   "outputs": [],
   "source": [
    "import numpy as np\n",
    "\n",
    "data=np.array(data)/255.0\n",
    "data=np.reshape(data,(data.shape[0],img_size,img_size,1))\n",
    "target=np.array(target)\n",
    "\n",
    "from keras.utils import np_utils\n",
    "\n",
    "new_target=np_utils.to_categorical(target)"
   ]
  },
  {
   "cell_type": "code",
   "execution_count": 6,
   "metadata": {},
   "outputs": [],
   "source": [
    "np.save('data',data)\n",
    "np.save('target',new_target)"
   ]
  },
  {
   "cell_type": "code",
   "execution_count": 7,
   "metadata": {},
   "outputs": [],
   "source": [
    "import numpy as np\n",
    "\n",
    "data=np.load('data.npy')\n",
    "target=np.load('target.npy')"
   ]
  },
  {
   "cell_type": "code",
   "execution_count": 8,
   "metadata": {},
   "outputs": [
    {
     "data": {
      "text/plain": [
       "((3389, 2), (3389, 100, 100, 1))"
      ]
     },
     "execution_count": 8,
     "metadata": {},
     "output_type": "execute_result"
    }
   ],
   "source": [
    "target.shape, data.shape  #category in target#"
   ]
  },
  {
   "cell_type": "code",
   "execution_count": 9,
   "metadata": {},
   "outputs": [
    {
     "data": {
      "text/plain": [
       "array([1., 0.], dtype=float32)"
      ]
     },
     "execution_count": 9,
     "metadata": {},
     "output_type": "execute_result"
    }
   ],
   "source": [
    "target[1]"
   ]
  },
  {
   "cell_type": "code",
   "execution_count": 10,
   "metadata": {},
   "outputs": [],
   "source": [
    "from keras.models import Sequential\n",
    "from keras.layers import Dense,Activation,Flatten,Dropout\n",
    "from keras.layers import Conv2D,MaxPooling2D\n",
    "from keras.callbacks import ModelCheckpoint\n",
    "\n",
    "model=Sequential()\n",
    "\n",
    "model.add(Conv2D(200,(3,3),input_shape=data.shape[1:]))\n",
    "model.add(Activation('relu'))\n",
    "model.add(MaxPooling2D(pool_size=(2,2)))\n",
    "\n",
    "\n",
    "model.add(Conv2D(100,(3,3)))\n",
    "model.add(Activation('relu'))\n",
    "model.add(MaxPooling2D(pool_size=(2,2)))\n",
    "\n",
    "\n",
    "model.add(Flatten())\n",
    "model.add(Dropout(0.6))\n",
    "\n",
    "model.add(Dense(50,activation='relu'))\n",
    "\n",
    "model.add(Dense(2,activation='softmax'))\n",
    "\n",
    "\n",
    "model.compile(loss='categorical_crossentropy',optimizer='adam',metrics=['accuracy'])"
   ]
  },
  {
   "cell_type": "code",
   "execution_count": 11,
   "metadata": {},
   "outputs": [],
   "source": [
    "from sklearn.model_selection import train_test_split\n",
    "\n",
    "train_data,test_data,train_target,test_target=train_test_split(data,target,test_size=0.1)"
   ]
  },
  {
   "cell_type": "code",
   "execution_count": 12,
   "metadata": {},
   "outputs": [
    {
     "name": "stdout",
     "output_type": "stream",
     "text": [
      "Epoch 1/12\n",
      "77/77 [==============================] - ETA: 0s - loss: 0.6824 - accuracy: 0.5734WARNING:tensorflow:From /home/shreyash/anaconda3/lib/python3.7/site-packages/tensorflow/python/training/tracking/tracking.py:111: Model.state_updates (from tensorflow.python.keras.engine.training) is deprecated and will be removed in a future version.\n",
      "Instructions for updating:\n",
      "This property should not be used in TensorFlow 2.0, as updates are applied automatically.\n",
      "WARNING:tensorflow:From /home/shreyash/anaconda3/lib/python3.7/site-packages/tensorflow/python/training/tracking/tracking.py:111: Layer.updates (from tensorflow.python.keras.engine.base_layer) is deprecated and will be removed in a future version.\n",
      "Instructions for updating:\n",
      "This property should not be used in TensorFlow 2.0, as updates are applied automatically.\n",
      "INFO:tensorflow:Assets written to: model-001.model/assets\n",
      "77/77 [==============================] - 80s 1s/step - loss: 0.6824 - accuracy: 0.5734 - val_loss: 0.5980 - val_accuracy: 0.6082\n",
      "Epoch 2/12\n",
      "77/77 [==============================] - ETA: 0s - loss: 0.5622 - accuracy: 0.6746INFO:tensorflow:Assets written to: model-002.model/assets\n",
      "77/77 [==============================] - 84s 1s/step - loss: 0.5622 - accuracy: 0.6746 - val_loss: 0.5264 - val_accuracy: 0.7082\n",
      "Epoch 3/12\n",
      "77/77 [==============================] - ETA: 0s - loss: 0.4922 - accuracy: 0.7324INFO:tensorflow:Assets written to: model-003.model/assets\n",
      "77/77 [==============================] - 83s 1s/step - loss: 0.4922 - accuracy: 0.7324 - val_loss: 0.5042 - val_accuracy: 0.7082\n",
      "Epoch 4/12\n",
      "77/77 [==============================] - ETA: 0s - loss: 0.4463 - accuracy: 0.7627INFO:tensorflow:Assets written to: model-004.model/assets\n",
      "77/77 [==============================] - 82s 1s/step - loss: 0.4463 - accuracy: 0.7627 - val_loss: 0.4985 - val_accuracy: 0.7295\n",
      "Epoch 5/12\n",
      "77/77 [==============================] - ETA: 0s - loss: 0.4193 - accuracy: 0.7857INFO:tensorflow:Assets written to: model-005.model/assets\n",
      "77/77 [==============================] - 80s 1s/step - loss: 0.4193 - accuracy: 0.7857 - val_loss: 0.4386 - val_accuracy: 0.7885\n",
      "Epoch 6/12\n",
      "77/77 [==============================] - 79s 1s/step - loss: 0.3527 - accuracy: 0.8316 - val_loss: 0.4685 - val_accuracy: 0.7803\n",
      "Epoch 7/12\n",
      "77/77 [==============================] - 77s 1s/step - loss: 0.3233 - accuracy: 0.8586 - val_loss: 0.4567 - val_accuracy: 0.8000\n",
      "Epoch 8/12\n",
      "77/77 [==============================] - ETA: 0s - loss: 0.2944 - accuracy: 0.8709INFO:tensorflow:Assets written to: model-008.model/assets\n",
      "77/77 [==============================] - 78s 1s/step - loss: 0.2944 - accuracy: 0.8709 - val_loss: 0.4303 - val_accuracy: 0.8213\n",
      "Epoch 9/12\n",
      "77/77 [==============================] - 78s 1s/step - loss: 0.2682 - accuracy: 0.8824 - val_loss: 0.4684 - val_accuracy: 0.8115\n",
      "Epoch 10/12\n",
      "77/77 [==============================] - 78s 1s/step - loss: 0.2272 - accuracy: 0.9066 - val_loss: 0.4335 - val_accuracy: 0.8262\n",
      "Epoch 11/12\n",
      "77/77 [==============================] - ETA: 0s - loss: 0.1980 - accuracy: 0.9164INFO:tensorflow:Assets written to: model-011.model/assets\n",
      "77/77 [==============================] - 79s 1s/step - loss: 0.1980 - accuracy: 0.9164 - val_loss: 0.4081 - val_accuracy: 0.8262\n",
      "Epoch 12/12\n",
      "77/77 [==============================] - ETA: 0s - loss: 0.1835 - accuracy: 0.9270INFO:tensorflow:Assets written to: model-012.model/assets\n",
      "77/77 [==============================] - 80s 1s/step - loss: 0.1835 - accuracy: 0.9270 - val_loss: 0.3743 - val_accuracy: 0.8557\n"
     ]
    }
   ],
   "source": [
    "checkpoint = ModelCheckpoint('model-{epoch:03d}.model',monitor='val_loss',verbose=0,save_best_only=True,mode='auto')\n",
    "history=model.fit(train_data,train_target,epochs=12,callbacks=[checkpoint],validation_split=0.2)\n"
   ]
  },
  {
   "cell_type": "code",
   "execution_count": 13,
   "metadata": {},
   "outputs": [
    {
     "data": {
      "image/png": "[encoded data removed]",
      "text/plain": [
       "<Figure size 432x288 with 1 Axes>"
      ]
     },
     "metadata": {
      "needs_background": "light"
     },
     "output_type": "display_data"
    }
   ],
   "source": [
    "from matplotlib import pyplot as plt\n",
    "\n",
    "plt.plot(history.history['loss'],'r',label='training loss')\n",
    "plt.plot(history.history['val_loss'],label='validation loss')\n",
    "plt.xlabel('# epochs')\n",
    "plt.ylabel('loss')\n",
    "plt.legend()\n",
    "plt.show()\n",
    "\n"
   ]
  },
  {
   "cell_type": "code",
   "execution_count": 14,
   "metadata": {},
   "outputs": [
    {
     "name": "stdout",
     "output_type": "stream",
     "text": [
      "11/11 [==============================] - 2s 224ms/step - loss: 0.2795 - accuracy: 0.8820\n",
      "[0.2795223295688629, 0.8820058703422546]\n"
     ]
    }
   ],
   "source": [
    "print(model.evaluate(test_data,test_target))"
   ]
  },
  {
   "cell_type": "code",
   "execution_count": 16,
   "metadata": {},
   "outputs": [],
   "source": [
    "import pickle"
   ]
  },
  {
   "cell_type": "code",
   "execution_count": 17,
   "metadata": {},
   "outputs": [],
   "source": [
    "with open('data_path_pickle.pkl', 'wb') as file:\n",
    "    pickle.dump(data_path,file)"
   ]
  },
  {
   "cell_type": "code",
   "execution_count": 18,
   "metadata": {},
   "outputs": [],
   "source": [
    "with open('data_path_pickle.pkl','rb') as f:\n",
    "    jp = pickle.load(f)"
   ]
  },
  {
   "cell_type": "code",
   "execution_count": null,
   "metadata": {},
   "outputs": [],
   "source": []
  }
 ],
 "metadata": {
  "kernelspec": {
   "display_name": "Python 3",
   "language": "python",
   "name": "python3"
  },
  "language_info": {
   "codemirror_mode": {
    "name": "ipython",
    "version": 3
   },
   "file_extension": ".py",
   "mimetype": "text/x-python",
   "name": "python",
   "nbconvert_exporter": "python",
   "pygments_lexer": "ipython3",
   "version": "3.7.6"
  }
 },
 "nbformat": 4,
 "nbformat_minor": 4
}
